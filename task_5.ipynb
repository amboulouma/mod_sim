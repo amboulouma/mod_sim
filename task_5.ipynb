{
 "cells": [
  {
   "cell_type": "code",
   "execution_count": 1,
   "metadata": {},
   "outputs": [],
   "source": [
    "# -*- coding: utf-8 -*-\n",
    "\"\"\"\n",
    "Created on Fri Jan 22 11:50:08 2021\n",
    "\n",
    "@author: amina\n",
    "\"\"\"\n",
    "\n",
    "import numpy as np\n",
    "import copy\n",
    "import cv2\n",
    "import matplotlib.pyplot as plt\n",
    "\n",
    "\n",
    "#from here I just need the array with the numbers of foxes and deers\n",
    "\n",
    "class Forest:\n",
    "    def __init__(self, height, width, prob_deer_init, prob_fox_init, k, p1, p2, p3, num_runs, fps):\n",
    "        self.height = height\n",
    "        self.width = width\n",
    "        self.k = k\n",
    "        self.p1 = p1\n",
    "        self.p2 = p2\n",
    "        self.p3 = p3\n",
    "        self.num_runs = num_runs\n",
    "        self.fps = fps\n",
    "\n",
    "        self.empty = 2\n",
    "        self.prey = 1\n",
    "        self.predator = 0\n",
    "        self.cell_types = [self.empty, self.prey, self.predator]\n",
    "\n",
    "        self.data = np.random.choice(self.cell_types,\n",
    "                                     (height, width),\n",
    "                                     p=[1 - prob_fox_init - prob_deer_init, prob_deer_init, prob_fox_init])\n",
    "\n",
    "        self.num_foxes = [np.count_nonzero(self.data == self.predator)]\n",
    "        self.num_deers = [np.count_nonzero(self.data == self.prey)]\n",
    "\n",
    "    def find_neighbours(self, row_number, column_number):\n",
    "        neighbours = set()\n",
    "        for i in range(row_number - 1 - self.k + 1, row_number + self.k + 1):\n",
    "            for j in range(column_number - 1 - self.k + 1, column_number + self.k + 1):\n",
    "                if 0 <= i < len(self.data) and 0 <= j < len(self.data[0]):\n",
    "                    neighbours.add((self.data[i][j], (i, j)))\n",
    "        neighbours.remove((self.data[row_number][column_number], (row_number, column_number)))\n",
    "        return neighbours\n",
    "\n",
    "    def get_random_neighbouring_cell(self, row_number, column_number):\n",
    "        neighbours = list(self.find_neighbours(row_number, column_number))\n",
    "        return neighbours[np.random.randint(0, len(neighbours))]\n",
    "\n",
    "    def update_forest_cell(self, row_number, column_number):\n",
    "        updated_forest = copy.deepcopy(self.data)\n",
    "\n",
    "        if updated_forest[row_number][column_number] == self.empty:\n",
    "            neighbouring_cell = self.get_random_neighbouring_cell(row_number, column_number)\n",
    "            if neighbouring_cell[0] == self.prey:\n",
    "                if np.random.random() < self.p1:\n",
    "                    updated_forest[row_number][column_number] = self.prey\n",
    "                    self.num_deers[-1] += 1\n",
    "\n",
    "        elif self.data[row_number][column_number] == self.prey:\n",
    "            neighbouring_cell = self.get_random_neighbouring_cell(row_number, column_number)\n",
    "            if neighbouring_cell[0] == self.predator:\n",
    "                if np.random.random() < self.p2:\n",
    "                    updated_forest[row_number][column_number] = self.predator\n",
    "                    self.num_deers[-1] -= 1\n",
    "                    self.num_foxes[-1] += 1\n",
    "\n",
    "        elif updated_forest[row_number][column_number] == self.predator:\n",
    "            if np.random.random() < self.p3:\n",
    "                updated_forest[row_number][column_number] = self.empty\n",
    "                self.num_foxes[-1] -= 1\n",
    "\n",
    "        return updated_forest\n",
    "\n",
    "    def update_forest(self):\n",
    "        updated_forest = copy.deepcopy(self.data)\n",
    "        self.num_foxes.append(self.num_foxes[-1])\n",
    "        self.num_deers.append(self.num_deers[-1])\n",
    "        for i in range(self.height):\n",
    "            for j in range(self.width):\n",
    "                updated_forest[i][j] = self.update_forest_cell(i, j)[i][j]\n",
    "\n",
    "        self.data = updated_forest\n",
    "\n",
    "    def run(self):\n",
    "        cv2.namedWindow(\"Visualization\", cv2.WINDOW_NORMAL)\n",
    "        cv2.resizeWindow(\"Visualization\", self.width * 10, self.height * 10)\n",
    "        vis = cv2.applyColorMap(np.array(self.data * 127, dtype=np.uint8), cv2.COLORMAP_HOT)\n",
    "        cv2.imshow(\"Visualization\", vis)\n",
    "        cv2.waitKey(0)\n",
    "        for run in range(self.num_runs):\n",
    "            self.update_forest()\n",
    "            vis = cv2.applyColorMap(np.array(self.data * 127, dtype=np.uint8), cv2.COLORMAP_HOT)\n",
    "            cv2.imshow(\"Visualization\", vis)\n",
    "            cv2.waitKey(int(1000/self.fps))\n",
    "\n",
    "    def plot(self):\n",
    "        plt.figure(figsize=(12, 9))\n",
    "        plt.plot(list(range(self.num_runs + 1)), self.num_foxes, label=\"foxes\")\n",
    "        plt.plot(list(range(self.num_runs + 1)), self.num_deers, label=\"deers\")\n",
    "        plt.legend()\n",
    "        plt.show()\n",
    "\n",
    "\n",
    "\n",
    "\n",
    "###########################################################################\n",
    "   \n",
    "def add_next_damped(x, y, alpha, beta, gamma, delta, M):\n",
    "    xt = x[-1]\n",
    "    yt = y[-1]\n",
    "    xnext = xt + xt * alpha * (M - xt - yt) - xt * yt * beta\n",
    "    ynext = yt + yt * (delta * xt - gamma)\n",
    "    x.append(xnext)\n",
    "    y.append(ynext)\n",
    "    return x, y\n",
    "        \n",
    "def damped(x0, y0, alpha, beta, gamma, delta, M, T):\n",
    "    x = [x0]\n",
    "    y = [y0]\n",
    "    for t in range(1, T):\n",
    "        x, y = add_next_damped(x, y, alpha, beta, gamma, delta, M);\n",
    "    x = [int(u) for u in x]\n",
    "    y = [int(v) for v in y]\n",
    "    return x, y\n",
    "\n",
    "\n",
    "####################################################################\n",
    "# This is just the idea how the function should work; but it's not the final version since it only compares the values at T=20\n",
    "\n",
    "def find_optimum(foxes_optimum,deers_optimum, foxes_current,deers_current, alpha, beta, gamma, delta, M):\n",
    "    deers_new = damped(deers_current,foxes_current,alpha,beta,gamma,delta,M,T)[0][-1]\n",
    "    foxes_new = damped(deers_current,foxes_current,alpha,beta,gamma,delta,M,T)[1][-1]\n",
    "    \n",
    "    if abs(foxes_new-foxes_optimum)<abs(foxes_current-foxes_optimum) or abs(deers_new-deers_optimum)<abs(deers_current-deers_optimum):\n",
    "        return foxes_new,deers_new,alpha,beta,gamma,delta,M\n",
    "    \n",
    "    else:\n",
    "        return foxes_current,deers_current,alpha,beta,gamma,delta,M\n",
    "\n",
    "#####################################################################\n",
    "# parameters to put into find_optimum\n",
    "# here I would use the meshgrid and apply find_optimum to each parameter combination \n",
    "\n",
    "def function(x0,y0,deers_optimum,foxes_optimum):\n",
    "    # some kind of for-loop\n",
    "    # get alpha,beta,gamma,delta,M from meshgrid\n",
    "    \n",
    "    best_fox,best_deer,best_alpha,best_beta,best_gamma,best_delta,best_M = find_optimum(foxes_optimum,deers_optimum,y0,x0, alpha, beta, gamma, delta, M)\n",
    "    \n",
    "    return best_alpha,best_beta,best_gamma,best_delta,best_M\n",
    "    \n",
    "\n"
   ]
  },
  {
   "cell_type": "code",
   "execution_count": 2,
   "metadata": {
    "scrolled": false
   },
   "outputs": [
    {
     "data": {
      "image/png": "[encoded data removed]",
      "text/plain": [
       "<Figure size 864x648 with 1 Axes>"
      ]
     },
     "metadata": {
      "needs_background": "light"
     },
     "output_type": "display_data"
    }
   ],
   "source": [
    "np.random.seed(1)\n",
    "forest = Forest(height=100, width=100,\n",
    "                prob_fox_init=0.1, prob_deer_init=0.4,\n",
    "                k=1, p1=0.2, p2=0.5, p3=5e-9,\n",
    "                num_runs=20, fps=2)\n",
    "forest.run()\n",
    "foxes_optimum = forest.num_foxes[-1]\n",
    "deers_optimum = forest.num_deers[-1]\n",
    "forest.plot()"
   ]
  },
  {
   "cell_type": "code",
   "execution_count": 3,
   "metadata": {},
   "outputs": [],
   "source": [
    "foxes_optimum = forest.num_foxes[-1]\n",
    "deers_optimum = forest.num_deers[-1]"
   ]
  },
  {
   "cell_type": "code",
   "execution_count": 4,
   "metadata": {},
   "outputs": [
    {
     "data": {
      "text/plain": [
       "(7871, 609)"
      ]
     },
     "execution_count": 4,
     "metadata": {},
     "output_type": "execute_result"
    }
   ],
   "source": [
    "foxes_optimum, deers_optimum"
   ]
  },
  {
   "cell_type": "code",
   "execution_count": 5,
   "metadata": {},
   "outputs": [
    {
     "name": "stdout",
     "output_type": "stream",
     "text": [
      "2557 5581\n"
     ]
    }
   ],
   "source": [
    "######################################################################\n",
    "#this was just a trial run to see if the function works\n",
    "alpha,beta,gamma,delta,M=1e-5,1e-5,5e-6,1e-5,10000\n",
    "deers_current = 4000\n",
    "foxes_current = 1000\n",
    "T = 20\n",
    "\n",
    "foxes_current,deers_current,alpha,beta,gamma,delta,M = find_optimum(foxes_optimum,deers_optimum,foxes_current,deers_current,alpha,beta,gamma,delta,M)\n",
    "print(foxes_current,deers_current)"
   ]
  },
  {
   "cell_type": "code",
   "execution_count": 6,
   "metadata": {},
   "outputs": [],
   "source": [
    "foxes = forest.num_foxes\n",
    "deers = forest.num_deers"
   ]
  },
  {
   "cell_type": "code",
   "execution_count": 7,
   "metadata": {},
   "outputs": [],
   "source": [
    "def npint(x): \n",
    "    return np.int(x)\n",
    "\n",
    "npint2 = np.vectorize(npint) "
   ]
  },
  {
   "cell_type": "markdown",
   "metadata": {},
   "source": [
    "# Fitting the curve for the deers (=x)"
   ]
  },
  {
   "cell_type": "code",
   "execution_count": 8,
   "metadata": {},
   "outputs": [],
   "source": [
    "x0, y0 = 4000, 1000"
   ]
  },
  {
   "cell_type": "code",
   "execution_count": 9,
   "metadata": {},
   "outputs": [],
   "source": [
    "def damped_transform_x(time, alpha, beta, gamma, delta, M):\n",
    "    x = [x0]\n",
    "    y = [y0]\n",
    "    for t in range(1, T+1):\n",
    "        x, y = add_next_damped(x, y, alpha, beta, gamma, delta, M);\n",
    "    x = [int(u) for u in x]\n",
    "    y = [int(v) for v in y]\n",
    "    x=np.array(x)\n",
    "    y=np.array(y)\n",
    "    print(npint2(np.array(time)))\n",
    "    \n",
    "    linear_interpol = x[npint2(time)]\n",
    "    return linear_interpol"
   ]
  },
  {
   "cell_type": "code",
   "execution_count": 10,
   "metadata": {},
   "outputs": [
    {
     "name": "stdout",
     "output_type": "stream",
     "text": [
      "18\n"
     ]
    },
    {
     "data": {
      "text/plain": [
       "5607"
      ]
     },
     "execution_count": 10,
     "metadata": {},
     "output_type": "execute_result"
    }
   ],
   "source": [
    "damped_transform_x(18.2, alpha, beta, gamma, delta, M)"
   ]
  },
  {
   "cell_type": "code",
   "execution_count": 11,
   "metadata": {},
   "outputs": [
    {
     "data": {
      "text/plain": [
       "21"
      ]
     },
     "execution_count": 11,
     "metadata": {},
     "output_type": "execute_result"
    }
   ],
   "source": [
    "len(deers)"
   ]
  },
  {
   "cell_type": "code",
   "execution_count": 12,
   "metadata": {},
   "outputs": [
    {
     "data": {
      "text/plain": [
       "20"
      ]
     },
     "execution_count": 12,
     "metadata": {},
     "output_type": "execute_result"
    }
   ],
   "source": [
    "len(list(range(T)))"
   ]
  },
  {
   "cell_type": "code",
   "execution_count": 13,
   "metadata": {},
   "outputs": [],
   "source": [
    "from scipy.optimize import curve_fit"
   ]
  },
  {
   "cell_type": "code",
   "execution_count": 14,
   "metadata": {
    "scrolled": false
   },
   "outputs": [
    {
     "name": "stdout",
     "output_type": "stream",
     "text": [
      "[ 0  1  2  3  4  5  6  7  8  9 10 11 12 13 14 15 16 17 18 19 20]\n",
      "[ 0  1  2  3  4  5  6  7  8  9 10 11 12 13 14 15 16 17 18 19 20]\n",
      "[ 0  1  2  3  4  5  6  7  8  9 10 11 12 13 14 15 16 17 18 19 20]\n",
      "[ 0  1  2  3  4  5  6  7  8  9 10 11 12 13 14 15 16 17 18 19 20]\n",
      "[ 0  1  2  3  4  5  6  7  8  9 10 11 12 13 14 15 16 17 18 19 20]\n",
      "[ 0  1  2  3  4  5  6  7  8  9 10 11 12 13 14 15 16 17 18 19 20]\n",
      "[ 0  1  2  3  4  5  6  7  8  9 10 11 12 13 14 15 16 17 18 19 20]\n",
      "[ 0  1  2  3  4  5  6  7  8  9 10 11 12 13 14 15 16 17 18 19 20]\n",
      "[ 0  1  2  3  4  5  6  7  8  9 10 11 12 13 14 15 16 17 18 19 20]\n",
      "[ 0  1  2  3  4  5  6  7  8  9 10 11 12 13 14 15 16 17 18 19 20]\n",
      "[ 0  1  2  3  4  5  6  7  8  9 10 11 12 13 14 15 16 17 18 19 20]\n",
      "[ 0  1  2  3  4  5  6  7  8  9 10 11 12 13 14 15 16 17 18 19 20]\n"
     ]
    }
   ],
   "source": [
    "bounds = ((0,0,0,0, 5000),\n",
    "          (10**-7,10**-4, 10**-6,10**-4,10**6)\n",
    "          )\n",
    "fit = curve_fit(damped_transform_x, list(range(T+1)), deers, bounds=bounds)"
   ]
  },
  {
   "cell_type": "code",
   "execution_count": 15,
   "metadata": {},
   "outputs": [
    {
     "data": {
      "text/plain": [
       "(array([9.28452856e-08, 4.97632214e-05, 5.00000000e-07, 4.98405556e-05,\n",
       "        5.02500000e+05]),\n",
       " array([[ 4.72155293e-15,  3.22414614e-13,  0.00000000e+00,\n",
       "          9.28122405e-14,  0.00000000e+00],\n",
       "        [ 3.22414614e-13,  1.36217611e-10,  0.00000000e+00,\n",
       "         -5.07628995e-11,  0.00000000e+00],\n",
       "        [ 0.00000000e+00,  0.00000000e+00,  0.00000000e+00,\n",
       "          0.00000000e+00,  0.00000000e+00],\n",
       "        [ 9.28122405e-14, -5.07628995e-11,  0.00000000e+00,\n",
       "          7.03452030e-11,  0.00000000e+00],\n",
       "        [ 0.00000000e+00,  0.00000000e+00,  0.00000000e+00,\n",
       "          0.00000000e+00,  0.00000000e+00]]))"
      ]
     },
     "execution_count": 15,
     "metadata": {},
     "output_type": "execute_result"
    }
   ],
   "source": [
    "fit"
   ]
  },
  {
   "cell_type": "code",
   "execution_count": 16,
   "metadata": {
    "scrolled": true
   },
   "outputs": [
    {
     "data": {
      "text/plain": [
       "(9.284528560849192e-08,\n",
       " 4.976322139740308e-05,\n",
       " 5e-07,\n",
       " 4.9840555603526664e-05,\n",
       " 502500.0)"
      ]
     },
     "execution_count": 16,
     "metadata": {},
     "output_type": "execute_result"
    }
   ],
   "source": [
    "alpha_fit, beta_fit, gamma_fit, delta_fit, M_fit = fit[0]\n",
    "alpha_fit, beta_fit, gamma_fit, delta_fit, M_fit"
   ]
  },
  {
   "cell_type": "code",
   "execution_count": 17,
   "metadata": {},
   "outputs": [
    {
     "name": "stdout",
     "output_type": "stream",
     "text": [
      "Number of deers at the end:  136\n",
      "Number of foxes at the end:  6773\n"
     ]
    },
    {
     "data": {
      "text/plain": [
       "<matplotlib.legend.Legend at 0x7f5729be6160>"
      ]
     },
     "execution_count": 17,
     "metadata": {},
     "output_type": "execute_result"
    },
    {
     "data": {
      "image/png": "[encoded data removed]",
      "text/plain": [
       "<Figure size 864x648 with 1 Axes>"
      ]
     },
     "metadata": {
      "needs_background": "light"
     },
     "output_type": "display_data"
    }
   ],
   "source": [
    "x, y = damped(x0, y0, alpha_fit, beta_fit, gamma_fit, delta_fit, M_fit, T)\n",
    "print(\"Number of deers at the end: \", x[-1])\n",
    "print(\"Number of foxes at the end: \", y[-1])\n",
    "\n",
    "plt.figure(figsize = (12,9))\n",
    "plt.plot(list(range(T)), y)\n",
    "plt.plot(list(range(T)), x)\n",
    "\n",
    "plt.legend([\"foxes\",\"deers\"])"
   ]
  },
  {
   "cell_type": "markdown",
   "metadata": {},
   "source": [
    "# Fitting the curve for the foxes (=y)"
   ]
  },
  {
   "cell_type": "code",
   "execution_count": 18,
   "metadata": {},
   "outputs": [],
   "source": [
    "def damped_transform_y(time, alpha, beta, gamma, delta, M):\n",
    "    x = [x0]\n",
    "    y = [y0]\n",
    "    for t in range(1, T+1):\n",
    "        x, y = add_next_damped(x, y, alpha, beta, gamma, delta, M);\n",
    "    x = [int(u) for u in x]\n",
    "    y = [int(v) for v in y]\n",
    "    x=np.array(x)\n",
    "    y=np.array(y)\n",
    "    print(npint2(np.array(time)))\n",
    "    \n",
    "    linear_interpol = y[npint2(time)]\n",
    "    return linear_interpol"
   ]
  },
  {
   "cell_type": "code",
   "execution_count": 19,
   "metadata": {
    "scrolled": false
   },
   "outputs": [
    {
     "name": "stdout",
     "output_type": "stream",
     "text": [
      "[ 0  1  2  3  4  5  6  7  8  9 10 11 12 13 14 15 16 17 18 19 20]\n",
      "[ 0  1  2  3  4  5  6  7  8  9 10 11 12 13 14 15 16 17 18 19 20]\n",
      "[ 0  1  2  3  4  5  6  7  8  9 10 11 12 13 14 15 16 17 18 19 20]\n",
      "[ 0  1  2  3  4  5  6  7  8  9 10 11 12 13 14 15 16 17 18 19 20]\n",
      "[ 0  1  2  3  4  5  6  7  8  9 10 11 12 13 14 15 16 17 18 19 20]\n",
      "[ 0  1  2  3  4  5  6  7  8  9 10 11 12 13 14 15 16 17 18 19 20]\n",
      "[ 0  1  2  3  4  5  6  7  8  9 10 11 12 13 14 15 16 17 18 19 20]\n",
      "[ 0  1  2  3  4  5  6  7  8  9 10 11 12 13 14 15 16 17 18 19 20]\n",
      "[ 0  1  2  3  4  5  6  7  8  9 10 11 12 13 14 15 16 17 18 19 20]\n",
      "[ 0  1  2  3  4  5  6  7  8  9 10 11 12 13 14 15 16 17 18 19 20]\n",
      "[ 0  1  2  3  4  5  6  7  8  9 10 11 12 13 14 15 16 17 18 19 20]\n",
      "[ 0  1  2  3  4  5  6  7  8  9 10 11 12 13 14 15 16 17 18 19 20]\n"
     ]
    }
   ],
   "source": [
    "bounds = ((0,0,0,0, 5000),\n",
    "          (7*10**-7,10**-4, 10**-6,10**-4,10**6)\n",
    "          )\n",
    "fit = curve_fit(damped_transform_y, list(range(T+1)), foxes, bounds=bounds)"
   ]
  },
  {
   "cell_type": "code",
   "execution_count": 20,
   "metadata": {},
   "outputs": [
    {
     "data": {
      "text/plain": [
       "(array([2.31100772e-07, 5.01307426e-05, 5.00000000e-07, 4.99297667e-05,\n",
       "        5.02500000e+05]),\n",
       " array([[ 9.16383017e-14,  9.29437728e-12,  0.00000000e+00,\n",
       "         -7.29598515e-12,  0.00000000e+00],\n",
       "        [ 9.29437728e-12,  9.92775919e-10,  0.00000000e+00,\n",
       "         -6.87358225e-10,  0.00000000e+00],\n",
       "        [ 0.00000000e+00,  0.00000000e+00,  0.00000000e+00,\n",
       "          0.00000000e+00,  0.00000000e+00],\n",
       "        [-7.29598515e-12, -6.87358225e-10,  0.00000000e+00,\n",
       "          6.62690704e-10,  0.00000000e+00],\n",
       "        [ 0.00000000e+00,  0.00000000e+00,  0.00000000e+00,\n",
       "          0.00000000e+00,  0.00000000e+00]]))"
      ]
     },
     "execution_count": 20,
     "metadata": {},
     "output_type": "execute_result"
    }
   ],
   "source": [
    "fit"
   ]
  },
  {
   "cell_type": "code",
   "execution_count": 21,
   "metadata": {
    "scrolled": true
   },
   "outputs": [
    {
     "data": {
      "text/plain": [
       "(2.3110077163932558e-07,\n",
       " 5.013074256588874e-05,\n",
       " 5e-07,\n",
       " 4.992976674434885e-05,\n",
       " 502500.0)"
      ]
     },
     "execution_count": 21,
     "metadata": {},
     "output_type": "execute_result"
    }
   ],
   "source": [
    "alpha_fit, beta_fit, gamma_fit, delta_fit, M_fit = fit[0]\n",
    "alpha_fit, beta_fit, gamma_fit, delta_fit, M_fit"
   ]
  },
  {
   "cell_type": "code",
   "execution_count": 22,
   "metadata": {},
   "outputs": [
    {
     "name": "stdout",
     "output_type": "stream",
     "text": [
      "Number of deers at the end:  40\n",
      "Number of foxes at the end:  10915\n"
     ]
    },
    {
     "data": {
      "text/plain": [
       "<matplotlib.legend.Legend at 0x7f5729b64100>"
      ]
     },
     "execution_count": 22,
     "metadata": {},
     "output_type": "execute_result"
    },
    {
     "data": {
      "image/png": "[encoded data removed]",
      "text/plain": [
       "<Figure size 864x648 with 1 Axes>"
      ]
     },
     "metadata": {
      "needs_background": "light"
     },
     "output_type": "display_data"
    }
   ],
   "source": [
    "x, y = damped(x0, y0, alpha_fit, beta_fit, gamma_fit, delta_fit, M_fit, T)\n",
    "print(\"Number of deers at the end: \", x[-1])\n",
    "print(\"Number of foxes at the end: \", y[-1])\n",
    "\n",
    "plt.figure(figsize = (12,9))\n",
    "plt.plot(list(range(T)), y)\n",
    "plt.plot(list(range(T)), x)\n",
    "\n",
    "plt.legend([\"foxes\",\"deers\"])"
   ]
  },
  {
   "cell_type": "code",
   "execution_count": null,
   "metadata": {},
   "outputs": [],
   "source": []
  },
  {
   "cell_type": "code",
   "execution_count": null,
   "metadata": {},
   "outputs": [],
   "source": []
  }
 ],
 "metadata": {
  "kernelspec": {
   "display_name": "Python 3",
   "language": "python",
   "name": "python3"
  },
  "language_info": {
   "codemirror_mode": {
    "name": "ipython",
    "version": 3
   },
   "file_extension": ".py",
   "mimetype": "text/x-python",
   "name": "python",
   "nbconvert_exporter": "python",
   "pygments_lexer": "ipython3",
   "version": "3.8.3"
  }
 },
 "nbformat": 4,
 "nbformat_minor": 4
}
